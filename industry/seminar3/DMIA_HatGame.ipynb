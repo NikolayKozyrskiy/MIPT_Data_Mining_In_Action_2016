{
 "cells": [
  {
   "cell_type": "code",
   "execution_count": 1,
   "metadata": {
    "collapsed": true
   },
   "outputs": [],
   "source": [
    "import numpy as np\n",
    "from sklearn.datasets import fetch_20newsgroups\n",
    "from collections import Counter\n",
    "import heapq\n",
    "import nltk\n",
    "from nltk.corpus import stopwords\n",
    "import itertools\n",
    "%matplotlib inline"
   ]
  },
  {
   "cell_type": "code",
   "execution_count": 2,
   "metadata": {
    "collapsed": true
   },
   "outputs": [],
   "source": [
    "import gensim"
   ]
  },
  {
   "cell_type": "code",
   "execution_count": 3,
   "metadata": {
    "collapsed": false
   },
   "outputs": [
    {
     "name": "stdout",
     "output_type": "stream",
     "text": [
      "[nltk_data] Downloading package stopwords to /Users/Roman/nltk_data...\n",
      "[nltk_data]   Package stopwords is already up-to-date!\n"
     ]
    },
    {
     "data": {
      "text/plain": [
       "True"
      ]
     },
     "execution_count": 3,
     "metadata": {},
     "output_type": "execute_result"
    }
   ],
   "source": [
    "nltk.download('stopwords')"
   ]
  },
  {
   "cell_type": "code",
   "execution_count": 4,
   "metadata": {
    "collapsed": true
   },
   "outputs": [],
   "source": [
    "english_stopwords = set(stopwords.words('english'))"
   ]
  },
  {
   "cell_type": "code",
   "execution_count": 5,
   "metadata": {
    "collapsed": false
   },
   "outputs": [
    {
     "name": "stderr",
     "output_type": "stream",
     "text": [
      "No handlers could be found for logger \"sklearn.datasets.twenty_newsgroups\"\n"
     ]
    }
   ],
   "source": [
    "dataset = fetch_20newsgroups(\n",
    "    remove=('headers', 'footers', 'quotes')\n",
    ")"
   ]
  },
  {
   "cell_type": "code",
   "execution_count": 6,
   "metadata": {
    "collapsed": false
   },
   "outputs": [
    {
     "name": "stdout",
     "output_type": "stream",
     "text": [
      "Processed:  0 documents from 11314\n",
      "Processed:  500 documents from 11314\n",
      "Processed:  1000 documents from 11314\n",
      "Processed:  1500 documents from 11314\n",
      "Processed:  2000 documents from 11314\n",
      "Processed:  2500 documents from 11314\n",
      "Processed:  3000 documents from 11314\n",
      "Processed:  3500 documents from 11314\n",
      "Processed:  4000 documents from 11314\n",
      "Processed:  4500 documents from 11314\n",
      "Processed:  5000 documents from 11314\n",
      "Processed:  5500 documents from 11314\n",
      "Processed:  6000 documents from 11314\n",
      "Processed:  6500 documents from 11314\n",
      "Processed:  7000 documents from 11314\n",
      "Processed:  7500 documents from 11314\n",
      "Processed:  8000 documents from 11314\n",
      "Processed:  8500 documents from 11314\n",
      "Processed:  9000 documents from 11314\n",
      "Processed:  9500 documents from 11314\n",
      "Processed:  10000 documents from 11314\n",
      "Processed:  10500 documents from 11314\n",
      "Processed:  11000 documents from 11314\n"
     ]
    }
   ],
   "source": [
    "pured_documents = []\n",
    "for i, doc in enumerate(dataset.data):\n",
    "    tokens = gensim.utils.lemmatize(doc)\n",
    "    document = []\n",
    "    for token in tokens:\n",
    "        word = token.split('/')[0]\n",
    "        if word not in english_stopwords:\n",
    "            document.append(word)\n",
    "    pured_documents.append(document)    \n",
    "    if i % 500 == 0:\n",
    "        print 'Processed: ', i, 'documents from', len(dataset.data)"
   ]
  },
  {
   "cell_type": "code",
   "execution_count": 7,
   "metadata": {
    "collapsed": false
   },
   "outputs": [],
   "source": [
    "text = nltk.Text(list(itertools.chain.from_iterable(pured_documents)))"
   ]
  },
  {
   "cell_type": "code",
   "execution_count": 8,
   "metadata": {
    "collapsed": false
   },
   "outputs": [],
   "source": [
    "class NltkHatPlayer(object):\n",
    "    def __init__(self):\n",
    "        pass\n",
    "    \n",
    "    def guess(self, words):\n",
    "        candidates = Counter()\n",
    "        for word in words:\n",
    "            for w in self.explain(word)[:5]:\n",
    "                candidates[w] += 1\n",
    "        for word in words:\n",
    "            if word in candidates:\n",
    "                del candidates[word]\n",
    "        return [x for x, _ in candidates.most_common(len(candidates))]\n",
    "    \n",
    "    def explain(self, word):\n",
    "        return text._word_context_index.similar_words(word)\n",
    "    \n",
    "    def guess_result(self, position):\n",
    "        pass\n",
    "    \n",
    "    def explanation_result(self, position):\n",
    "        pass"
   ]
  },
  {
   "cell_type": "code",
   "execution_count": 45,
   "metadata": {
    "collapsed": false
   },
   "outputs": [
    {
     "data": {
      "text/plain": [
       "['god', 'say', 'damn', 'fair', 'existence']"
      ]
     },
     "execution_count": 45,
     "metadata": {},
     "output_type": "execute_result"
    }
   ],
   "source": [
    "tmp_nltk = NltkHatPlayer()\n",
    "tmp_nltk.guess(['bible'] )"
   ]
  },
  {
   "cell_type": "code",
   "execution_count": 46,
   "metadata": {
    "collapsed": false
   },
   "outputs": [
    {
     "data": {
      "text/plain": [
       "['scripture',\n",
       " 'interpretation',\n",
       " 'passage',\n",
       " 'atheist',\n",
       " 'verse',\n",
       " 'biblical',\n",
       " 'contradiction',\n",
       " 'christian',\n",
       " 'atheism',\n",
       " 'matthew']"
      ]
     },
     "execution_count": 46,
     "metadata": {},
     "output_type": "execute_result"
    }
   ],
   "source": [
    "tmp_nltk = GensimHatPlayer()\n",
    "tmp_nltk.guess(['bible'] )"
   ]
  },
  {
   "cell_type": "code",
   "execution_count": 28,
   "metadata": {
    "collapsed": false
   },
   "outputs": [
    {
     "data": {
      "text/plain": [
       "['bible',\n",
       " 'christian',\n",
       " 'face',\n",
       " 'joseph',\n",
       " 'shirt',\n",
       " 'afford',\n",
       " 'price',\n",
       " 'topic',\n",
       " 'range',\n",
       " 'disappoint',\n",
       " 'require']"
      ]
     },
     "execution_count": 28,
     "metadata": {},
     "output_type": "execute_result"
    }
   ],
   "source": [
    "tmp_nltk.explain('hat')"
   ]
  },
  {
   "cell_type": "code",
   "execution_count": null,
   "metadata": {
    "collapsed": true
   },
   "outputs": [],
   "source": []
  },
  {
   "cell_type": "code",
   "execution_count": 9,
   "metadata": {
    "collapsed": false
   },
   "outputs": [],
   "source": [
    "from gensim.models import Word2Vec"
   ]
  },
  {
   "cell_type": "code",
   "execution_count": 10,
   "metadata": {
    "collapsed": true
   },
   "outputs": [],
   "source": [
    "model = Word2Vec(pured_documents, size=100, window=5, min_count=5, workers=4)"
   ]
  },
  {
   "cell_type": "code",
   "execution_count": 11,
   "metadata": {
    "collapsed": true
   },
   "outputs": [],
   "source": [
    "class GensimHatPlayer(object):\n",
    "    def __init__(self):\n",
    "        pass\n",
    "    \n",
    "    def guess(self, words):\n",
    "        return [x for x, _ in model.most_similar(positive=words)]\n",
    "    \n",
    "    def explain(self, word):\n",
    "        return [x for x, _ in model.most_similar(positive=[word])]\n",
    "    \n",
    "    def guess_result(self, position):\n",
    "        pass\n",
    "    \n",
    "    def explanation_result(self, position):\n",
    "        pass"
   ]
  },
  {
   "cell_type": "code",
   "execution_count": 57,
   "metadata": {
    "collapsed": true
   },
   "outputs": [],
   "source": [
    "class MixHatPlayer(object):\n",
    "    def __init__(self):\n",
    "        ##w = [0.5, 0.5]\n",
    "        Nltk = NltkHatPlayer()\n",
    "        Gensim = GensimHatPlayer()\n",
    "        \n",
    "        \n",
    "    \n",
    "    def guess(self, words):\n",
    "        \n",
    "        Nltk = NltkHatPlayer()\n",
    "        Gensim = GensimHatPlayer()\n",
    "        \n",
    "        pred_Nltk = Nltk.guess(words)\n",
    "        pred_Gensim = Gensim.guess(words)\n",
    "         \n",
    "        ans = []\n",
    "        for word_nltk, word_gensim in zip(pred_Nltk[:5], pred_Gensim[:5]):\n",
    "            ans.append(word_nltk)\n",
    "            ans.append(word_gensim)\n",
    "        return ans\n",
    "        \n",
    "    \n",
    "    def explain(self, word):\n",
    "\n",
    "        Nltk = NltkHatPlayer()\n",
    "        Gensim = GensimHatPlayer()\n",
    "        \n",
    "        pred_Nltk = Nltk.explain(word)\n",
    "        pred_Gensim = Gensim.explain(word)\n",
    "         \n",
    "        ans = []\n",
    "        min_len = min(len(pred_Nltk), len(pred_Gensim))\n",
    "        \n",
    "        for i, nltk_word, gensim_word in zip(range(min_len), pred_Nltk, pred_Gensim):\n",
    "            ans.append(nltk_word)\n",
    "            ans.append(gensim_word)\n",
    "        return ans\n",
    "            \n",
    "    \n",
    "    def guess_result(self, position):\n",
    "        pass\n",
    "    \n",
    "    def explanation_result(self, position):\n",
    "        pass"
   ]
  },
  {
   "cell_type": "code",
   "execution_count": 12,
   "metadata": {
    "collapsed": false
   },
   "outputs": [],
   "source": [
    "words_universe = model.vocab.keys()\n",
    "words_universe_set = set(model.vocab.keys())"
   ]
  },
  {
   "cell_type": "code",
   "execution_count": 13,
   "metadata": {
    "collapsed": true
   },
   "outputs": [],
   "source": [
    "def calc_score(player1, player2, word):\n",
    "    explanation = [x for x in player1.explain(word) if x in words_universe_set][:10]\n",
    "    exp_score = 0.\n",
    "    if word in explanation:\n",
    "        exp_score -= 1.0\n",
    "    guess_score = 0.\n",
    "    if len(explanation) > 0:\n",
    "        for pref in xrange(10):\n",
    "            guess = player2.guess(explanation[:pref + 1])[:10]\n",
    "            try:\n",
    "                pos = guess.index(word)\n",
    "                player1.explanation_result(pos)\n",
    "                player2.guess_result(pos)\n",
    "                guess_score += 0.9 ** pos\n",
    "                exp_score += 0.9 ** pos\n",
    "            except ValueError:\n",
    "                player1.explanation_result(None)\n",
    "                player2.guess_result(None)\n",
    "    return exp_score, guess_score\n",
    "\n",
    "\n",
    "def play(player1, player2, rounds, seed=42):\n",
    "    random_gen = np.random.RandomState(seed)\n",
    "    player1_exp_score = 0.\n",
    "    player1_guess_score = 0.\n",
    "    player2_exp_score = 0.\n",
    "    player2_guess_score = 0.\n",
    "    for _ in xrange(rounds):\n",
    "        word = random_gen.choice(words_universe)\n",
    "        player1_exp, player2_guess = calc_score(player1, player2, word)\n",
    "        player2_exp, player1_guess = calc_score(player2, player1, word)\n",
    "        player1_explanation = player1.explain(word)\n",
    "        player2_explanation = player1.explain(word)\n",
    "        \n",
    "        player1_exp_score += player1_exp\n",
    "        player2_exp_score += player2_exp\n",
    "        player1_guess_score += player1_guess\n",
    "        player2_guess_score += player2_guess\n",
    "        \n",
    "    return (\n",
    "        (player1_exp_score, player1_guess_score, player1_guess_score + player1_exp_score),\n",
    "        (player2_exp_score, player2_guess_score, player2_guess_score + player2_exp_score)\n",
    "    )"
   ]
  },
  {
   "cell_type": "code",
   "execution_count": 14,
   "metadata": {
    "collapsed": false
   },
   "outputs": [
    {
     "name": "stdout",
     "output_type": "stream",
     "text": [
      "CPU times: user 38.6 s, sys: 239 ms, total: 38.9 s\n",
      "Wall time: 20 s\n"
     ]
    },
    {
     "data": {
      "text/plain": [
       "((7837.411001571994, 7837.411001571994, 15674.822003143989),\n",
       " (7837.411001571994, 7837.411001571994, 15674.822003143989))"
      ]
     },
     "execution_count": 14,
     "metadata": {},
     "output_type": "execute_result"
    }
   ],
   "source": [
    "%%time\n",
    "play(GensimHatPlayer(), GensimHatPlayer(), 1000)"
   ]
  },
  {
   "cell_type": "code",
   "execution_count": 18,
   "metadata": {
    "collapsed": false
   },
   "outputs": [
    {
     "name": "stdout",
     "output_type": "stream",
     "text": [
      "No matches\n"
     ]
    }
   ],
   "source": [
    "text.similar('sdas')"
   ]
  },
  {
   "cell_type": "code",
   "execution_count": 19,
   "metadata": {
    "collapsed": false
   },
   "outputs": [
    {
     "name": "stdout",
     "output_type": "stream",
     "text": [
      "CPU times: user 33.8 s, sys: 216 ms, total: 34 s\n",
      "Wall time: 17.1 s\n"
     ]
    },
    {
     "data": {
      "text/plain": [
       "((132.04689594800004, 161.49928565300002, 293.54618160100006),\n",
       " (161.49928565300002, 132.04689594800004, 293.54618160100006))"
      ]
     },
     "execution_count": 19,
     "metadata": {},
     "output_type": "execute_result"
    }
   ],
   "source": [
    "%%time\n",
    "play(NltkHatPlayer(), GensimHatPlayer(), 1000)"
   ]
  },
  {
   "cell_type": "code",
   "execution_count": 21,
   "metadata": {
    "collapsed": false
   },
   "outputs": [
    {
     "name": "stdout",
     "output_type": "stream",
     "text": [
      "CPU times: user 3min 11s, sys: 3.37 s, total: 3min 15s\n",
      "Wall time: 3min 13s\n"
     ]
    },
    {
     "data": {
      "text/plain": [
       "((2144.5650743320007, 2144.5650743320007, 4289.130148664001),\n",
       " (2144.5650743320007, 2144.5650743320007, 4289.130148664001))"
      ]
     },
     "execution_count": 21,
     "metadata": {},
     "output_type": "execute_result"
    }
   ],
   "source": [
    "%%time\n",
    "play(NltkHatPlayer(), NltkHatPlayer(), 1000)"
   ]
  },
  {
   "cell_type": "code",
   "execution_count": 58,
   "metadata": {
    "collapsed": false
   },
   "outputs": [
    {
     "data": {
      "text/plain": [
       "((814.5562650130004, 6344.341959767, 7158.89822478),\n",
       " (6344.341959767, 814.5562650130004, 7158.89822478))"
      ]
     },
     "execution_count": 58,
     "metadata": {},
     "output_type": "execute_result"
    }
   ],
   "source": [
    "play(MixHatPlayer(), GensimHatPlayer(), 1000)"
   ]
  },
  {
   "cell_type": "code",
   "execution_count": 60,
   "metadata": {
    "collapsed": false
   },
   "outputs": [
    {
     "data": {
      "text/plain": [
       "((1652.9520942740003, 1688.9459514399991, 3341.8980457139996),\n",
       " (1688.9459514399991, 1652.9520942740003, 3341.8980457139996))"
      ]
     },
     "execution_count": 60,
     "metadata": {},
     "output_type": "execute_result"
    }
   ],
   "source": [
    "play(MixHatPlayer(), NltkHatPlayer(), 1000)"
   ]
  },
  {
   "cell_type": "code",
   "execution_count": null,
   "metadata": {
    "collapsed": true
   },
   "outputs": [],
   "source": []
  }
 ],
 "metadata": {
  "anaconda-cloud": {},
  "kernelspec": {
   "display_name": "Python [default]",
   "language": "python",
   "name": "python2"
  },
  "language_info": {
   "codemirror_mode": {
    "name": "ipython",
    "version": 2
   },
   "file_extension": ".py",
   "mimetype": "text/x-python",
   "name": "python",
   "nbconvert_exporter": "python",
   "pygments_lexer": "ipython2",
   "version": "2.7.12"
  }
 },
 "nbformat": 4,
 "nbformat_minor": 0
}
